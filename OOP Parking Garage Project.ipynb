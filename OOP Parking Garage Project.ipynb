{
 "cells": [
  {
   "cell_type": "markdown",
   "metadata": {},
   "source": [
    "# Parking Garage Project\n",
    "\n",
    "Your assignment for today is to create a parking garage class to get more familiar with Object Oriented Programming(OOP). \n",
    "\n",
    "Your parking gargage class should have the following methods:\n",
    "- takeTicket\n",
    "   - This should decrease the amount of tickets available by 1\n",
    "   - This should decrease the amount of parkingSpaces available by 1\n",
    "- payForParking\n",
    "   - Display an input that waits for an amount from the user and store it in a variable\n",
    "   - If the payment variable is not empty then ->  display a message to the user that their ticket has been paid and they have 15mins to leave\n",
    "   - This should update the \"currentTicket\" dictionary key \"paid\" to True\n",
    "-leaveGarage\n",
    "   - If the ticket has been paid, display a message of \"Thank You, have a nice day\"\n",
    "   - If the ticket has not been paid, display an input prompt for payment\n",
    "      - Once paid, display message \"Thank you, have a nice day!\"\n",
    "   - Update parkingSpaces list to increase by 1\n",
    "   - Update tickets list to increase by 1\n",
    "\n",
    "You will need a few attributes as well:\n",
    "- tickets -> list\n",
    "- parkingSpaces -> list\n",
    "- currentTicket -> dictionary"
   ]
  },
  {
   "cell_type": "code",
   "execution_count": 10,
   "metadata": {},
   "outputs": [
    {
     "name": "stdout",
     "output_type": "stream",
     "text": [
      "These spaces are available:\n",
      "1\n",
      "2\n",
      "3\n",
      "4\n",
      "5\n",
      "6\n",
      "7\n",
      "8\n",
      "9\n",
      "10\n",
      "What spot are you going to park in?10\n",
      "There are 9 available.\n"
     ]
    }
   ],
   "source": [
    "# Your Code will go here\n",
    "# need a class ParkingGarage()\n",
    "# def __init__(self, tickets = 50, parkingSpaces = 50, currentTicket = True)\n",
    "#self.tickets = tickets #define a number of tickets for the garage, default 50\n",
    "#self.parkingSpaces = parkingSpaces #define number of parking spaces, should equal tickets, default 50\n",
    "#self.currentTicket = currentTicket #status of current ticket payment, either true or false, when taken, changes to false and then to true when paid\n",
    "\n",
    "#have ticket 'name' same as parking space 'name'\n",
    "# it will have def takeTicket(), def payForParking(), and def leaveGarage()\n",
    "# the attributes for the class are tickets = [], parkingSpaces = [], currentTicket = {}\n",
    "#currentTicket has key of 'paid' and value of 'True' or 'False'\n",
    "#currentTicket \n",
    "\n",
    "class ParkingGarage():\n",
    "    def __init__(self, tickets = list(range(1,11)), parkingSpaces = list(range(1,11)), currentTicket = {}):\n",
    "        self.tickets = tickets #define a number of tickets for the garage, default 10\n",
    "        self.parkingSpaces = parkingSpaces #define number of parking spaces, should equal tickets, default 10\n",
    "        self.currentTicket = currentTicket #status of current ticket payment, either true or false, when taken, changes to false and then to true when paid\n",
    "\n",
    "\n",
    "    def takeTicket(self):\n",
    "        print('These spaces are available:')\n",
    "        for spaces in self.parkingSpaces:\n",
    "            print(spaces)\n",
    "        spot = int(input('What spot are you going to park in?'))\n",
    "        self.parkingSpaces.remove(spot)\n",
    "        self.tickets.remove(spot)\n",
    "        \n",
    "    def availableSpaces(self):\n",
    "        print(f'There are {len(self.parkingSpaces)} available.') # return integer number of count of number of parking spaces available\n",
    "\n",
    "lot = ParkingGarage()\n",
    "lot.takeTicket()\n",
    "lot.availableSpaces()\n",
    "\n",
    "#self.tickets.remove()\n",
    "#self.parkingSpaces.remove()\n",
    "#add that ticket as key to currentTicket dictionary with value of false\n",
    "\n",
    "#payForParking\n",
    "\n",
    "\n",
    "#leaveGarage()\n",
    "#ticket = input('Please enter your parking space:')\n",
    "#if currentTicket.value = False, payment = input('Please enter payment before leaving:')\n",
    "    #then payment triggers change in currentTicket.value to True\n",
    "#if currentTicket.value = True, print('Thanks! Enjoy your day!')\n",
    "# parkingSpaces self.parkingSpaces.append()\n",
    "# tickets self.ticekts.append()\n",
    "\n"
   ]
  },
  {
   "cell_type": "code",
   "execution_count": null,
   "metadata": {},
   "outputs": [],
   "source": []
  }
 ],
 "metadata": {
  "kernelspec": {
   "display_name": "Python 3",
   "language": "python",
   "name": "python3"
  },
  "language_info": {
   "codemirror_mode": {
    "name": "ipython",
    "version": 3
   },
   "file_extension": ".py",
   "mimetype": "text/x-python",
   "name": "python",
   "nbconvert_exporter": "python",
   "pygments_lexer": "ipython3",
   "version": "3.8.8"
  }
 },
 "nbformat": 4,
 "nbformat_minor": 2
}
